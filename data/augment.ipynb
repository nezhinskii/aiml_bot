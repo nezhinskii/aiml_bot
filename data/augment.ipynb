{
 "cells": [
  {
   "cell_type": "code",
   "execution_count": 7,
   "metadata": {},
   "outputs": [],
   "source": [
    "import random\n",
    "from PIL import Image\n",
    "import os\n",
    "\n",
    "def augment_and_save_image(file_path, output_path):\n",
    "    with Image.open(file_path) as img:\n",
    "        bw_img = img.convert(\"L\")\n",
    "        rotation_degree = random.uniform(5, 10)\n",
    "        if random.randint(0, 1) == 1:\n",
    "            rotation_degree *= -1\n",
    "        rotated_img = bw_img.rotate(rotation_degree)\n",
    "        rotated_img.save(output_path, format='PNG', optimize=True)\n",
    "labels = {}\n",
    "with open(\"train_part.txt\", 'r', encoding='utf-8') as file:\n",
    "    for line in file:\n",
    "        if line.strip() != \"\":\n",
    "            parts = line.split(':')\n",
    "            labels[parts[0]] = int(parts[1])\n",
    "directory_path = r\"C:\\\\Users\\\\ymayma\\\\Desktop\\\\data\\\\train_part\"\n",
    "output_dir = r\"C:\\\\Users\\\\ymayma\\\\Desktop\\\\data\\\\augmented_train\"\n",
    "\n",
    "for entry in os.listdir(directory_path):\n",
    "    full_path = os.path.join(directory_path, entry)\n",
    "    base_name = entry.split('.')[0]\n",
    "    output_path = os.path.join(output_dir, base_name + \"_r1.png\")\n",
    "    labels[base_name + \"_r1\"] = labels[base_name]\n",
    "    augment_and_save_image(full_path, output_path)\n",
    "\n",
    "file_path = 'augmented_train_classes.txt'\n",
    "with open(file_path, 'w', encoding='utf-8') as file:\n",
    "    for key in labels:\n",
    "        file.write(key + ':' + str(labels[key]) + \"\\n\")"
   ]
  },
  {
   "cell_type": "code",
   "execution_count": 2,
   "metadata": {},
   "outputs": [],
   "source": [
    "labels = {\n",
    "    0:[],\n",
    "    1:[],\n",
    "    2:[],\n",
    "    3:[],\n",
    "    4:[],\n",
    "    5:[],\n",
    "    6:[],\n",
    "    7:[],\n",
    "    8:[],\n",
    "    9:[]\n",
    "}\n",
    "with open(\"train_classes.txt\", 'r', encoding='utf-8') as file:\n",
    "    for line in file:\n",
    "        if line.strip() != \"\":\n",
    "            parts = line.split(':')\n",
    "            labels[int(parts[1])].append(parts[0])\n",
    "file_path = 'sorted_train.txt'\n",
    "with open(file_path, 'w', encoding='utf-8') as file:\n",
    "    for key in labels:\n",
    "        labels[key].sort()\n",
    "        for i in range(len(labels[key])):\n",
    "            file.write(labels[key][i] + ':' + str(key) + \"\\n\")\n",
    "        file.write('\\n')"
   ]
  }
 ],
 "metadata": {
  "kernelspec": {
   "display_name": "Python 3",
   "language": "python",
   "name": "python3"
  },
  "language_info": {
   "codemirror_mode": {
    "name": "ipython",
    "version": 3
   },
   "file_extension": ".py",
   "mimetype": "text/x-python",
   "name": "python",
   "nbconvert_exporter": "python",
   "pygments_lexer": "ipython3",
   "version": "3.10.11"
  }
 },
 "nbformat": 4,
 "nbformat_minor": 2
}
