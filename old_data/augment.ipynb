{
 "cells": [
  {
   "cell_type": "code",
   "execution_count": 2,
   "metadata": {},
   "outputs": [],
   "source": [
    "import random\n",
    "from PIL import Image\n",
    "import os\n",
    "\n",
    "def augment_and_save_image(file_path, output_path):\n",
    "    with Image.open(file_path) as img:\n",
    "        bw_img = img.convert(\"L\")\n",
    "        rotation_degree = random.uniform(5, 10)\n",
    "        if random.randint(0, 1) == 1:\n",
    "            rotation_degree *= -1\n",
    "        rotated_img = bw_img.rotate(rotation_degree)\n",
    "        rotated_img.save(output_path, format='PNG', optimize=True)\n",
    "labels = {}\n",
    "with open(\"train.txt\", 'r', encoding='utf-8') as file:\n",
    "    for line in file:\n",
    "        if line.strip() != \"\":\n",
    "            parts = line.split(':')\n",
    "            labels[parts[0]] = int(parts[1])\n",
    "directory_path = \"E:\\mmcs\\intelligent_system\\RecognStudents\\old_data\\\\train\"\n",
    "output_dir = \"E:\\mmcs\\intelligent_system\\RecognStudents\\old_data\\\\augmented_train\"\n",
    "\n",
    "for entry in os.listdir(directory_path):\n",
    "    full_path = os.path.join(directory_path, entry)\n",
    "    base_name = entry.split('.')[0]\n",
    "    output_path = os.path.join(output_dir, base_name + \"_r1.png\")\n",
    "    labels[base_name + \"_r1\"] = labels[base_name]\n",
    "    augment_and_save_image(full_path, output_path)\n",
    "\n",
    "file_path = 'augmented_train_classes.txt'\n",
    "with open(file_path, 'w', encoding='utf-8') as file:\n",
    "    for key in labels:\n",
    "        file.write(key + ':' + str(labels[key]) + \"\\n\")"
   ]
  },
  {
   "cell_type": "code",
   "execution_count": null,
   "metadata": {},
   "outputs": [],
   "source": []
  }
 ],
 "metadata": {
  "kernelspec": {
   "display_name": "Python 3",
   "language": "python",
   "name": "python3"
  },
  "language_info": {
   "codemirror_mode": {
    "name": "ipython",
    "version": 3
   },
   "file_extension": ".py",
   "mimetype": "text/x-python",
   "name": "python",
   "nbconvert_exporter": "python",
   "pygments_lexer": "ipython3",
   "version": "3.10.11"
  }
 },
 "nbformat": 4,
 "nbformat_minor": 2
}
